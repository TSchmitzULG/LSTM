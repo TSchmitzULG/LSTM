{
 "cells": [
  {
   "cell_type": "markdown",
   "metadata": {},
   "source": [
    "# Emulation of nonlinear audio systems with LSTM in Real Time\n",
    "version : LSTM9"
   ]
  },
  {
   "cell_type": "markdown",
   "metadata": {},
   "source": [
    "Imports :"
   ]
  },
  {
   "cell_type": "code",
   "execution_count": 1,
   "metadata": {},
   "outputs": [
    {
     "name": "stdout",
     "output_type": "stream",
     "text": [
      "INFO:tensorflow:Restoring parameters from ./experiments/2017-10-29-10-16/temp/myFinalModel.ckpt\n",
      "input latency 0.07256235827664399 s\n",
      "output latency 0.108843537414966 s\n",
      "Playback Error: 4\n"
     ]
    },
    {
     "name": "stderr",
     "output_type": "stream",
     "text": [
      "ERROR:root:Internal Python error in the inspect module.\n",
      "Below is the traceback from this internal error.\n",
      "\n"
     ]
    },
    {
     "name": "stdout",
     "output_type": "stream",
     "text": [
      "Traceback (most recent call last):\n",
      "  File \"/usr/local/lib/python3.5/dist-packages/IPython/core/interactiveshell.py\", line 2910, in run_code\n",
      "    exec(code_obj, self.user_global_ns, self.user_ns)\n",
      "  File \"<ipython-input-1-9b642ea050c4>\", line 64, in <module>\n",
      "    time.sleep(0.1)\n",
      "KeyboardInterrupt\n",
      "\n",
      "During handling of the above exception, another exception occurred:\n",
      "\n",
      "Traceback (most recent call last):\n",
      "  File \"/usr/local/lib/python3.5/dist-packages/IPython/core/interactiveshell.py\", line 1828, in showtraceback\n",
      "    stb = value._render_traceback_()\n",
      "AttributeError: 'KeyboardInterrupt' object has no attribute '_render_traceback_'\n",
      "\n",
      "During handling of the above exception, another exception occurred:\n",
      "\n",
      "Traceback (most recent call last):\n",
      "  File \"/usr/local/lib/python3.5/dist-packages/IPython/core/ultratb.py\", line 1090, in get_records\n",
      "    return _fixed_getinnerframes(etb, number_of_lines_of_context, tb_offset)\n",
      "  File \"/usr/local/lib/python3.5/dist-packages/IPython/core/ultratb.py\", line 311, in wrapped\n",
      "    return f(*args, **kwargs)\n",
      "  File \"/usr/local/lib/python3.5/dist-packages/IPython/core/ultratb.py\", line 345, in _fixed_getinnerframes\n",
      "    records = fix_frame_records_filenames(inspect.getinnerframes(etb, context))\n",
      "  File \"/usr/lib/python3.5/inspect.py\", line 1453, in getinnerframes\n",
      "    frameinfo = (tb.tb_frame,) + getframeinfo(tb, context)\n",
      "  File \"/usr/lib/python3.5/inspect.py\", line 1410, in getframeinfo\n",
      "    filename = getsourcefile(frame) or getfile(frame)\n",
      "  File \"/usr/lib/python3.5/inspect.py\", line 672, in getsourcefile\n",
      "    if getattr(getmodule(object, filename), '__loader__', None) is not None:\n",
      "  File \"/usr/lib/python3.5/inspect.py\", line 715, in getmodule\n",
      "    f = getabsfile(module)\n",
      "  File \"/usr/lib/python3.5/inspect.py\", line 684, in getabsfile\n",
      "    _filename = getsourcefile(object) or getfile(object)\n",
      "  File \"/usr/lib/python3.5/inspect.py\", line 669, in getsourcefile\n",
      "    if os.path.exists(filename):\n",
      "  File \"/usr/lib/python3.5/genericpath.py\", line 19, in exists\n",
      "    os.stat(path)\n",
      "TypeError: __init__() missing 3 required positional arguments: 'node_def', 'op', and 'message'\n"
     ]
    },
    {
     "ename": "KeyboardInterrupt",
     "evalue": "",
     "output_type": "error",
     "traceback": [
      "\u001b[0;31m---------------------------------------------------------------------------\u001b[0m"
     ]
    }
   ],
   "source": [
    "import sys,select,os\n",
    "sys.path.append('./Codes')\n",
    "import tensorflow as tf\n",
    "import numpy as np\n",
    "import matplotlib\n",
    "import matplotlib.pyplot as plt\n",
    "import pickle\n",
    "import scipy.io.wavfile\n",
    "import time\n",
    "import pyaudio \n",
    "\n",
    "pathModel = './experiments/2017-10-29-10-16/temp/' #(200,100)\n",
    "\n",
    "\n",
    "if not os.path.isdir(pathModel):\n",
    "    print(\"could nt find path model {}\".format(pathModel))\n",
    "num_step = 100\n",
    "bufferAudioSize = 800\n",
    "fs = 22050\n",
    "\n",
    "with tf.Session() as sess:\n",
    "    saver = tf.train.import_meta_graph(pathModel+'myFinalModel.ckpt.meta')\n",
    "    saver.restore(sess,tf.train.latest_checkpoint(pathModel))\n",
    "    lastBuff = np.zeros((num_step-1,))\n",
    "    graph = tf.get_default_graph()\n",
    "    data = graph.get_tensor_by_name(\"placeHolder/data:0\")\n",
    "    prediction = graph.get_tensor_by_name(\"prediction:0\")\n",
    "    \n",
    "    dataNonShaped = tf.placeholder(tf.float32, [bufferAudioSize,],name=\"inputFromADC\")\n",
    "    prevBuff = tf.placeholder(tf.float32, [num_step-1,],name = \"EndofPreviousInputBufferNonShaped\")\n",
    "    newBuff = tf.concat([prevBuff,dataNonShaped],0) #size num_step-1+bufferAudioSize\n",
    "    \n",
    "    nextBuff = newBuff[-(num_step-1):] # save for next iteration\n",
    "    \n",
    "    my_indices = tf.constant(np.arange(bufferAudioSize))\n",
    "    \n",
    "    indices = (np.arange(num_step) +my_indices[:,tf.newaxis])\n",
    "    dataShaped = tf.gather(newBuff,indices) # slice input vector into tenor of shape(audiobufferSize,num_step)\n",
    "\n",
    "    def callback(in_data, frame_count, time_info, flag):\n",
    "        if flag:\n",
    "            print(\"Playback Error: {}\".format(flag))\n",
    "        global lastBuff\n",
    "\n",
    "        audio_data = np.fromstring(in_data, dtype=np.float32)\n",
    "        dataShapedToProcess,lastBuff = sess.run([dataShaped,nextBuff], feed_dict={dataNonShaped : audio_data, prevBuff : lastBuff})\n",
    "        out = sess.run(prediction, feed_dict={data: dataShapedToProcess})\n",
    "        return out, pyaudio.paContinue\n",
    "    \n",
    "    pa = pyaudio.PyAudio()\n",
    "    \n",
    "    stream = pa.open(format = pyaudio.paFloat32,\n",
    "                     channels = 1,\n",
    "                     rate = fs,\n",
    "                     output = True,\n",
    "                     input = True,\n",
    "                     frames_per_buffer = bufferAudioSize,\n",
    "                     stream_callback = callback)\n",
    "    print(\"input latency {} s\".format(stream.get_input_latency()))\n",
    "    print(\"output latency {} s\".format(stream.get_output_latency()))\n",
    "\n",
    "    #stream.start_stream()\n",
    "    while stream.is_active():   \n",
    "        time.sleep(0.1)\n",
    "\n",
    "    print(\"stream interrupted\")   \n",
    "    stream.stop_stream()\n",
    "    stream.close()\n",
    "    pa.terminate()"
   ]
  }
 ],
 "metadata": {
  "kernelspec": {
   "display_name": "Python 3",
   "language": "python",
   "name": "python3"
  },
  "language_info": {
   "codemirror_mode": {
    "name": "ipython",
    "version": 3
   },
   "file_extension": ".py",
   "mimetype": "text/x-python",
   "name": "python",
   "nbconvert_exporter": "python",
   "pygments_lexer": "ipython3",
   "version": "3.5.2"
  }
 },
 "nbformat": 4,
 "nbformat_minor": 2
}
