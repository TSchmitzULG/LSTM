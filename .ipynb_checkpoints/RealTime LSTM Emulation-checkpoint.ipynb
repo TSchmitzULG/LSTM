{
 "cells": [
  {
   "cell_type": "markdown",
   "metadata": {},
   "source": [
    "# Emulation of nonlinear audio systems with LSTM in Real Time\n",
    "version : LSTM9"
   ]
  },
  {
   "cell_type": "markdown",
   "metadata": {},
   "source": [
    "Imports :"
   ]
  },
  {
   "cell_type": "code",
   "execution_count": 1,
   "metadata": {
    "collapsed": true
   },
   "outputs": [],
   "source": [
    "import sys,select,os\n",
    "sys.path.append('./Codes')\n",
    "import tensorflow as tf\n",
    "import numpy as np\n",
    "import pyaudio \n",
    "import time"
   ]
  },
  {
   "cell_type": "markdown",
   "metadata": {},
   "source": [
    "Model parameters:"
   ]
  },
  {
   "cell_type": "code",
   "execution_count": 2,
   "metadata": {
    "collapsed": true
   },
   "outputs": [],
   "source": [
    "pathModel = './experiments/2017-10-29-10-16/temp/'\n",
    "if not os.path.isdir(pathModel):\n",
    "    print(\"could nt find path model {}\".format(pathModel))\n",
    "num_step = 100\n",
    "bufferAudioSize = 1024\n",
    "fs = 22050"
   ]
  },
  {
   "cell_type": "markdown",
   "metadata": {},
   "source": [
    "Restore model and run it:"
   ]
  },
  {
   "cell_type": "code",
   "execution_count": 3,
   "metadata": {},
   "outputs": [
    {
     "name": "stdout",
     "output_type": "stream",
     "text": [
      "INFO:tensorflow:Restoring parameters from ./experiments/2017-10-29-09-53/temp/myFinalModel.ckpt\n",
      "input latency 0.09287981859410431 s\n",
      "output latency 0.13931972789115646 s\n",
      "Playback Error: 4\n",
      "Playback Error: 4\n",
      "Playback Error: 4\n",
      "Playback Error: 4\n",
      "Playback Error: 4\n",
      "stream interrupted\n"
     ]
    }
   ],
   "source": [
    "with tf.Session() as sess:\n",
    "    saver = tf.train.import_meta_graph(pathModel+'myFinalModel.ckpt.meta') #import graph\n",
    "    saver.restore(sess,tf.train.latest_checkpoint(pathModel)) #restore variables weight\n",
    "    lastBuff = np.zeros((num_step-1,)) #create a buffer which store the num_step-1 last value of the audioBuffer\n",
    "    graph = tf.get_default_graph()\n",
    "    data = graph.get_tensor_by_name(\"placeHolder/data:0\") #restore placeHolder from Learn LSTM ICASSP\n",
    "    prediction = graph.get_tensor_by_name(\"prediction:0\") #restore op from Learn LSTM ICASSP\n",
    "    \n",
    "    dataNonShaped = tf.placeholder(tf.float32, [None,],name=\"inputFromADC\") # input data from ADC sound card\n",
    "    prevBuff = tf.placeholder(tf.float32, [num_step-1,],name = \"RestoreLastNumStepValueForPreviousAudioBuffer\")\n",
    "    newBuff = tf.concat([prevBuff,dataNonShaped],0) #size num_step-1+bufferAudioSize\n",
    "    nextBuff = newBuff[-(num_step-1):] # save the num_step last values for next iteration\n",
    "    \n",
    "    my_indices = tf.constant(np.arange(bufferAudioSize))\n",
    "    indices = (np.arange(num_step) +my_indices[:,tf.newaxis])\n",
    "    dataShaped = tf.gather(dataNonShaped,indices) # Reshape audioBuffer into a tensor of shape(audiobufferSize,num_step)\n",
    "    \n",
    "    #Define callback function to process audioBuffer\n",
    "    def callback(in_data, frame_count, time_info, flag):\n",
    "        if flag:\n",
    "            print(\"Playback Error: {}\".format(flag))\n",
    "        global lastBuff\n",
    "        \n",
    "        audio_data = np.fromstring(in_data, dtype=np.float32)\n",
    "        dataShapedToProcess,lastBuff = sess.run([dataShaped,nextBuff], feed_dict={dataNonShaped : audio_data, prevBuff : lastBuff})\n",
    "        out = sess.run(prediction, feed_dict={data: dataShapedToProcess})\n",
    "        return out, pyaudio.paContinue\n",
    "    \n",
    "    #initialize pyaudio_module to start the acquisition of audio data\n",
    "    pa = pyaudio.PyAudio()\n",
    "    stream = pa.open(format = pyaudio.paFloat32,\n",
    "                     channels = 1,\n",
    "                     rate = fs,\n",
    "                     output = True,\n",
    "                     input = True,\n",
    "                     frames_per_buffer = bufferAudioSize,\n",
    "                     stream_callback = callback)\n",
    "    print(\"input latency {} s\".format(stream.get_input_latency()))\n",
    "    print(\"output latency {} s\".format(stream.get_output_latency()))\n",
    "\n",
    "    #stream.start_stream()\n",
    "    while stream.is_active():   \n",
    "        time.sleep(0.1)\n",
    "\n",
    "    print(\"stream interrupted\")   \n",
    "    stream.stop_stream()\n",
    "    stream.close()\n",
    "    pa.terminate()"
   ]
  }
 ],
 "metadata": {
  "kernelspec": {
   "display_name": "Python 3",
   "language": "python",
   "name": "python3"
  },
  "language_info": {
   "codemirror_mode": {
    "name": "ipython",
    "version": 3
   },
   "file_extension": ".py",
   "mimetype": "text/x-python",
   "name": "python",
   "nbconvert_exporter": "python",
   "pygments_lexer": "ipython3",
   "version": "3.5.2"
  }
 },
 "nbformat": 4,
 "nbformat_minor": 2
}
